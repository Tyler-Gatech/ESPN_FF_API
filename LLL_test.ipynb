{
 "cells": [
  {
   "cell_type": "code",
   "execution_count": null,
   "metadata": {},
   "outputs": [],
   "source": [
    "from ff_espn_api import League\n",
    "import requests\n",
    "from collections import defaultdict\n",
    "import sys\n",
    "\n",
    "#Saving the file private_league_info.py in parent folder. See file private_league_info_example.py as example\n",
    "sys.path.append('..')\n",
    "from private_league_info import league_id, swid, espn_s2\n",
    "\n",
    "#GO To your league page and get the league_id from the url\n",
    "\n",
    "#This is the year of data you want to pull\n",
    "year = 2018\n",
    "\n",
    "#Via the cookies tab pull the swid and espn_s2\n",
    "\n",
    "url = \"https://fantasy.espn.com/apis/v3/games/FFL/seasons/\" + str(year) + \"/segments/0/leagues/\" + str(league_id)"
   ]
  },
  {
   "cell_type": "code",
   "execution_count": null,
   "metadata": {},
   "outputs": [],
   "source": [
    "cookies_input  = {\n",
    "                'espn_s2': espn_s2,\n",
    "                'SWID': swid\n",
    "            }"
   ]
  },
  {
   "cell_type": "code",
   "execution_count": null,
   "metadata": {},
   "outputs": [],
   "source": [
    "#pull league and team info\n",
    "params = {\n",
    "    'view': 'mTeam'\n",
    "}\n",
    "\n",
    "r = requests.get(url, params=params, cookies = cookies_input)\n",
    "data = r.json()"
   ]
  },
  {
   "cell_type": "code",
   "execution_count": null,
   "metadata": {},
   "outputs": [],
   "source": []
  },
  {
   "cell_type": "code",
   "execution_count": null,
   "metadata": {},
   "outputs": [],
   "source": [
    "teams = data['teams']\n",
    "\n",
    "team_ids = []\n",
    "team_abbv = []\n",
    "team_name = []\n",
    "team_losses = []\n",
    "team_wins = []\n",
    "team_pts_for = []\n",
    "team_pts_against = []\n",
    "team_drops = []\n",
    "team_adds = []\n",
    "\n",
    "for team in teams:\n",
    "    team_ids.append(team['id'])\n",
    "    team_abbv.append(team['abbrev'])\n",
    "    team_name.append(team['location']+' '+team['nickname'])\n",
    "    team_losses.append(team['record']['overall']['losses'])\n",
    "    team_wins.append(team['record']['overall']['wins'])\n",
    "    team_pts_for.append(team['record']['overall']['pointsFor'])\n",
    "    team_pts_against.append(team['record']['overall']['pointsAgainst'])\n",
    "    team_drops.append(team['transactionCounter']['acquisitions'])\n",
    "    team_adds.append(team['transactionCounter']['drops'])\n",
    "\n",
    "     \n",
    "team_info = {}\n",
    "year_team_info = {}\n",
    "\n",
    "#Formatting into dict format\n",
    "for a,b in enumerate(team_ids): \n",
    "    temp_info={}\n",
    "    temp_info['abbv']=team_abbv[a]\n",
    "    temp_info['name']=team_name[a]\n",
    "    temp_info['wins']=team_wins[a]\n",
    "    temp_info['losses']=team_losses[a]\n",
    "    temp_info['pts_for']=team_pts_for[a]\n",
    "    temp_info['pts_against']=team_pts_against[a]\n",
    "    temp_info['adds']=team_adds[a]\n",
    "    temp_info['drops']=team_drops[a]\n",
    "\n",
    "    team_info[b]=temp_info   \n",
    "\n",
    "#for a,b in enumerate(teams): \n",
    "#    print(b)\n",
    "\n",
    "team_info2 = {}\n",
    "\n",
    "team_info2['id'] = team_info\n",
    "\n",
    "team_info2['id'][1]"
   ]
  },
  {
   "cell_type": "code",
   "execution_count": null,
   "metadata": {},
   "outputs": [],
   "source": []
  },
  {
   "cell_type": "code",
   "execution_count": null,
   "metadata": {},
   "outputs": [],
   "source": [
    "r = requests.get(url, params='', cookies = cookies_input)\n",
    "data = r.json()"
   ]
  },
  {
   "cell_type": "code",
   "execution_count": null,
   "metadata": {},
   "outputs": [],
   "source": [
    "teams = data['teams']\n",
    "#members = data['members']\n",
    "\n",
    "#sample of the data\n",
    "print(teams[0])\n",
    "\n",
    "#View the teams\n",
    "for i in teams:\n",
    "    print(i['nickname'])\n",
    "    \n"
   ]
  },
  {
   "cell_type": "code",
   "execution_count": null,
   "metadata": {},
   "outputs": [],
   "source": [
    "##pull roster data, update params for api request\n",
    "params = {\n",
    "            'view': 'mRoster',\n",
    "        }"
   ]
  },
  {
   "cell_type": "code",
   "execution_count": null,
   "metadata": {},
   "outputs": [],
   "source": [
    "#Bring in the data\n",
    "r = requests.get(url, params=params, cookies = cookies_input)\n",
    "data = r.json()\n",
    "\n",
    "team_roster = {}\n",
    "for team in data['teams']:\n",
    "    team_roster[team['id']] = team['roster']\n",
    "    \n",
    "data['teams']"
   ]
  },
  {
   "cell_type": "code",
   "execution_count": null,
   "metadata": {},
   "outputs": [],
   "source": [
    "roster_list = defaultdict(list)\n",
    "player_id_list = defaultdict(list)\n",
    "\n",
    "for roster in team_roster:\n",
    "    for entry in team_roster[roster]['entries']:\n",
    "                roster_list[roster].append(entry['playerPoolEntry']['player']['fullName'])\n",
    "                player_id_list[roster].append(entry['playerId'])\n",
    "                \n",
    "type(roster_list)\n",
    "\n",
    "roster_list"
   ]
  },
  {
   "cell_type": "code",
   "execution_count": null,
   "metadata": {},
   "outputs": [],
   "source": [
    "#Simple example data\n",
    "players_list = [['A','B','C'],['D','E','F'],['G','H','I']]\n",
    "id_list = [[1,2,3],[4,5,6],[7,8,9]]\n",
    "teams = ['Alpha', 'Bravo', 'Charlie']\n",
    "\n",
    "team_info = {}\n",
    "\n",
    "for a,b in enumerate(teams): \n",
    "    players_info={}\n",
    "    players_info['players']=players_list[a]\n",
    "    players_info['ids']=id_list[a]\n",
    "    team_info[b]=players_info   \n",
    "\n",
    "#This doesn't work\n",
    "#team_info['Alpha']['players']\n",
    "\n",
    "#I have to reference by position \n",
    "#Is there a better way to set this up\n",
    "team_info"
   ]
  },
  {
   "cell_type": "code",
   "execution_count": null,
   "metadata": {},
   "outputs": [],
   "source": [
    "player_names = []\n",
    "for i,v in roster_list.items():\n",
    "   player_names.append(v)\n",
    "\n",
    "player_ids = []\n",
    "for i,v in player_id_list.items():\n",
    "   player_ids.append(v)\n",
    "\n",
    "\n",
    "team_ids1 = []\n",
    "for roster in team_roster:\n",
    "    team_ids1.append(roster)\n",
    "\n",
    "team_info = {}\n",
    "\n",
    "\n",
    "for a,b in enumerate(team_ids1):\n",
    "    info={}\n",
    "    info['players']=player_names[a]\n",
    "    info['ids']=player_ids[a]\n",
    "    team_info[b]=info \n",
    "    \n",
    "\n",
    "team_info"
   ]
  },
  {
   "cell_type": "code",
   "execution_count": null,
   "metadata": {},
   "outputs": [],
   "source": [
    "player_names = []\n",
    "for i,v in roster_list.items():\n",
    "   player_names.append(v)\n",
    "\n",
    "team_ids1 = []\n",
    "for roster in team_roster:\n",
    "    team_ids1.append(roster)\n",
    "\n",
    "result = defaultdict(list)\n",
    "\n",
    "for key, value in zip(team_ids1, players1):\n",
    "      result[key].append(value)\n",
    "        \n",
    "player_names"
   ]
  },
  {
   "cell_type": "code",
   "execution_count": null,
   "metadata": {},
   "outputs": [],
   "source": [
    "aa = []\n",
    "for i,v in roster_list.items():\n",
    "   aa.append(v)\n",
    "\n",
    "\n",
    "bb = []\n",
    "for i,v in player_id_list.items():\n",
    "   bb.append(v)\n",
    "\n",
    "player_list = []\n",
    "\n",
    "for a,b in enumerate(aa): \n",
    "    player_list.append((list(zip(bb[a],aa[a]))))\n",
    "\n",
    "print(player_list)"
   ]
  },
  {
   "cell_type": "code",
   "execution_count": null,
   "metadata": {},
   "outputs": [],
   "source": [
    "roster_list = defaultdict(list)\n",
    "\n",
    "for team in data['teams']:\n",
    "    print(team['id'])\n",
    "    for i in team['id']\n",
    "    #roster_list[(team['id'])].append\n",
    "             \n",
    "\n"
   ]
  },
  {
   "cell_type": "code",
   "execution_count": null,
   "metadata": {},
   "outputs": [],
   "source": [
    "roster_list = defaultdict(list)\n",
    "\n",
    "for i in team_roster:\n",
    "    for x in team_roster[i]['entries']:\n",
    "                z += 1\n",
    "                roster_list[i].append(x['playerPoolEntry']['player']['fullName'])\n",
    "                \n",
    "roster_list"
   ]
  },
  {
   "cell_type": "code",
   "execution_count": null,
   "metadata": {},
   "outputs": [],
   "source": []
  },
  {
   "cell_type": "code",
   "execution_count": null,
   "metadata": {},
   "outputs": [],
   "source": [
    "a=0\n",
    "for i in team_roster: \n",
    "    for a in i['entries']: \n",
    "        a +=1"
   ]
  },
  {
   "cell_type": "code",
   "execution_count": null,
   "metadata": {},
   "outputs": [],
   "source": [
    "i = 0\n",
    "for team in data['teams']:\n",
    "    print(team['roster'])"
   ]
  },
  {
   "cell_type": "code",
   "execution_count": null,
   "metadata": {},
   "outputs": [],
   "source": [
    "team_roster = {}\n",
    "for team in data['teams']:\n",
    "    team_roster[team['id']] = team['roster']"
   ]
  },
  {
   "cell_type": "code",
   "execution_count": null,
   "metadata": {},
   "outputs": [],
   "source": [
    "for team in teams:\n",
    "    for member in members:\n",
    "        # get member info\n",
    "        if member['id'] == team['owners'][0]:\n",
    "            break\n",
    "    roster = team_roster[team['id']]\n"
   ]
  },
  {
   "cell_type": "code",
   "execution_count": null,
   "metadata": {},
   "outputs": [],
   "source": [
    "position_map = {\n",
    "                  0: 'QB',\n",
    "                  1: 'TQB',\n",
    "                  2: 'RB',\n",
    "                  3: 'RB/WR',\n",
    "                  4: 'WR',\n",
    "                  5: 'WR/TE',\n",
    "                  6: 'TE',\n",
    "                  7: 'OP',\n",
    "                  8: 'DT',\n",
    "                  9: 'DE',\n",
    "                  10: 'LB',\n",
    "                  11: 'DL',\n",
    "                  12: 'CB',\n",
    "                  13: 'S',\n",
    "                  14: 'DB',\n",
    "                  15: 'DP',\n",
    "                  16: 'D/ST',\n",
    "                  17: 'K',\n",
    "                  18: 'P',\n",
    "                  19: 'HC',\n",
    "                  20: 'BE',\n",
    "                  21: 'IR',\n",
    "                  22: '',\n",
    "                  23: 'RB/WR/TE'\n",
    "                  }"
   ]
  },
  {
   "cell_type": "code",
   "execution_count": null,
   "metadata": {},
   "outputs": [],
   "source": [
    "data['entries']"
   ]
  }
 ],
 "metadata": {
  "kernelspec": {
   "display_name": "Python 3",
   "language": "python",
   "name": "python3"
  },
  "language_info": {
   "codemirror_mode": {
    "name": "ipython",
    "version": 3
   },
   "file_extension": ".py",
   "mimetype": "text/x-python",
   "name": "python",
   "nbconvert_exporter": "python",
   "pygments_lexer": "ipython3",
   "version": "3.7.3"
  }
 },
 "nbformat": 4,
 "nbformat_minor": 2
}
